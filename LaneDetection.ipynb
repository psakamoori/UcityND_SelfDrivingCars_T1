{
 "cells": [
  {
   "cell_type": "code",
   "execution_count": 24,
   "metadata": {
    "collapsed": true
   },
   "outputs": [],
   "source": [
    "#importing packages\n",
    "import matplotlib.pyplot as plt\n",
    "import matplotlib.image as mpimg\n",
    "import cv2 as cv\n",
    "import numpy as np\n",
    "import os\n",
    "%matplotlib inline"
   ]
  },
  {
   "cell_type": "code",
   "execution_count": 25,
   "metadata": {},
   "outputs": [],
   "source": [
    "def read_ip_image(path):\n",
    "    # Reading input image\n",
    "    ip_img = cv.imread(path)\n",
    "    return ip_img"
   ]
  },
  {
   "cell_type": "code",
   "execution_count": 26,
   "metadata": {},
   "outputs": [],
   "source": [
    "def GrayScale(ip_img):\n",
    "    # Converting input color image to gray\n",
    "    gray = cv.cvtColor(ip_img, cv.COLOR_RGB2GRAY)\n",
    "    return gray\n",
    "\n",
    "def Gaussian(gray, kernel_size):\n",
    "    #Smoothing image using Gaussian Smoothin\n",
    "    kernel_size = 5\n",
    "    blur_gray = cv.GaussianBlur(gray, (kernel_size, kernel_size), 0)\n",
    "    return blur_gray\n"
   ]
  },
  {
   "cell_type": "code",
   "execution_count": 27,
   "metadata": {},
   "outputs": [],
   "source": [
    "def CannyEdge(blur_gray, low_threshold, high_threshold):\n",
    "    # Edge detection using Canny filter\n",
    "    edges = cv.Canny(blur_gray, lw_threshold, hg_threshold)\n",
    "    return edges\n"
   ]
  },
  {
   "cell_type": "code",
   "execution_count": 28,
   "metadata": {},
   "outputs": [],
   "source": [
    "def region_of_interest(edges, vertices):\n",
    "    # Creating masked edges \n",
    "    mask = np.zeros_like(edges)\n",
    "\n",
    "    #defining a 3 channel or 1 channel color to fill the mask with depending on the input image\n",
    "    if len(edges.shape) > 2:\n",
    "        channel_count = edges.shape[2]  # i.e. 3 or 4 depending on your image\n",
    "        ignore_mask_color = (240,) * channel_count\n",
    "    else:\n",
    "        ignore_mask_color = 240\n",
    "   \n",
    "    cv.fillPoly(mask, vertices, ignore_mask_color)\n",
    "    \n",
    "    masked_edges = cv.bitwise_and(edges, mask)\n",
    "    \n",
    "    return masked_edges"
   ]
  },
  {
   "cell_type": "code",
   "execution_count": 29,
   "metadata": {},
   "outputs": [],
   "source": [
    "def hough_lines(img, edges, masked_edges, rho, theta, threshold, min_line_length, max_line_gap):\n",
    "\n",
    "    # Creating blank image of shape ip image\n",
    "    line_image = np.copy(img)*0\n",
    "    \n",
    "    #plt.figure()\n",
    "    #plt.imshow(line_image)\n",
    "    \n",
    "    # Run Hough on edge detected image\n",
    "    lines = cv.HoughLinesP(masked_edges, rho, theta, threshold, np.array([]), min_line_length, max_line_gap)\n",
    "    #line_img = np.zeros((img.shape[0], img.shape[1], 3), dtype=np.uint8)\n",
    "    \n",
    "    # Seperating left and right lane coordinates\n",
    "    left_lane_pts = []\n",
    "    right_lane_pts = []\n",
    "            \n",
    "    for line in lines:\n",
    "        for x1, y1, x2, y2 in line:\n",
    "            if x1 <= 460:\n",
    "                left_lane_pts.append(line)\n",
    "            else:\n",
    "                right_lane_pts.append(line)\n",
    "\n",
    "    \n",
    "    # Create a \"color\" binary image to combine with line image\n",
    "    color_edges = np.dstack((edges, edges, edges))\n",
    "\n",
    "    # Draw the lines on the edege image\n",
    "    lines_edges = cv.addWeighted(color_edges, 1, line_image, 0.6, 0)\n",
    "    \n",
    "    draw_lines(img, left_lane_pts)\n",
    "    draw_lines(img, right_lane_pts)\n",
    "\n",
    "    #plt.figure()\n",
    "    #plt.imshow(img)\n",
    "    return img"
   ]
  },
  {
   "cell_type": "code",
   "execution_count": 57,
   "metadata": {},
   "outputs": [],
   "source": [
    "def draw_lines(img, lines, color=[255, 0, 0], thickness=2):\n",
    "    # Connecting dotted lanes markings \n",
    "    # Felt that its not need to compute slope and intrapolate/extrapolate the points \n",
    "    # to fill the dotted lanes\n",
    "   \n",
    "    for n in range(len(lines)-1):\n",
    "        p1 = lines[n]\n",
    "        p2 = lines[n+1]\n",
    "        cv.line(img, (p1[0][2], p1[0][3]), (p2[0][0], p2[0][1]), (255, 0, 0), 2)\n",
    "            \n",
    "    # Tried below extrapolating logic, but did not work\n",
    "    # Extrapolated points to finish the line_draw to [x, 540] coordinate\n",
    "    # s = (y2 - y1)/(x2 - x1)\n",
    "    # We know Slope, x1, y1 (any know point), we know y2 i.e 540, unknown is x2\n",
    "    # x2 = [(y2 - y1)/m] + x1\n",
    "    #slope = int((p2[0][1] - p1[0][1])/(p2[0][0] - p1[0][0]))\n",
    "        \n",
    "    #if ((p2[0][0] - p1[0][0]) > 0):\n",
    "        #x2 = int((540 - p1[0][1])/int(slope)) + p1[0][0]\n",
    "        #cv.line(img, (int(x2), 540), (p1[0][0], p1[0][1]), (255, 0, 0), 2)\n",
    "        #cv.line(img, (p1[0][0], 540), (int(x2), p1[0][1]), (255, 0, 0), 2)\n",
    "    \n"
   ]
  },
  {
   "cell_type": "code",
   "execution_count": 58,
   "metadata": {},
   "outputs": [],
   "source": [
    "def weighted_img(line_img, color_edges, alpha=0.8, beta=1, y=0):\n",
    "    return cv.addWeighted(color_edges, alpha, line_img, beta, y)"
   ]
  },
  {
   "cell_type": "code",
   "execution_count": 59,
   "metadata": {
    "collapsed": true
   },
   "outputs": [],
   "source": [
    "def process_image(img):\n",
    "    global kernel_size, lw_threshold, hg_threshold\n",
    "    global rho, theta, threshold, min_line_length, max_line_gap\n",
    "\n",
    "    line_image = []\n",
    "    gray = blur_gray = []\n",
    "    masked_edges = initial_img = line_image = []\n",
    "\n",
    "    gray = cv.cvtColor(img, cv.COLOR_RGB2YUV)\n",
    "    \n",
    "    # Making copy if img\n",
    "    initial_img = img\n",
    "        \n",
    "    # Reading image shape\n",
    "    imshape = img.shape\n",
    "        \n",
    "    # Selecting Polygon mask region\n",
    "    vertices = np.array([[(60, imshape[0]), (460,320), (imshape[1]-460, 315), (imshape[1]-60, imshape[0])]], dtype=np.int32)\n",
    "    \n",
    "    # Converting input color image intto gray image\n",
    "    gray = GrayScale(img)\n",
    "        \n",
    "    # Gaussian smoothing gray image\n",
    "    blur_gray = Gaussian(gray, kernel_size)\n",
    "        \n",
    "    # Running Canny edge detector on blur_img\n",
    "    edges = CannyEdge(blur_gray, lw_threshold, hg_threshold)\n",
    "        \n",
    "    # Selecting region of interest\n",
    "    masked_edges = region_of_interest(edges, vertices)\n",
    "    \n",
    "            \n",
    "    line_image = hough_lines(img, edges, masked_edges, rho, theta, threshold, min_line_length, max_line_gap)\n",
    "    \n",
    "    return line_image\n",
    "    "
   ]
  },
  {
   "cell_type": "markdown",
   "metadata": {},
   "source": [
    "## main()"
   ]
  },
  {
   "cell_type": "code",
   "execution_count": 61,
   "metadata": {
    "scrolled": true
   },
   "outputs": [
    {
     "name": "stdout",
     "output_type": "stream",
     "text": [
      "Done running test_images...!!!\n",
      "Check output images under test_out_images\\..!!!\n",
      "[MoviePy] >>>> Building video test_out_videos/solidWhiteRight.mp4\n",
      "[MoviePy] Writing video test_out_videos/solidWhiteRight.mp4\n"
     ]
    },
    {
     "name": "stderr",
     "output_type": "stream",
     "text": [
      " 98%|█████████▊| 50/51 [00:03<00:00,  7.57it/s]\n"
     ]
    },
    {
     "name": "stdout",
     "output_type": "stream",
     "text": [
      "[MoviePy] Done.\n",
      "[MoviePy] >>>> Video ready: test_out_videos/solidWhiteRight.mp4 \n",
      "\n",
      "CPU times: user 836 ms, sys: 40 ms, total: 876 ms\n",
      "Wall time: 5.99 s\n",
      "[MoviePy] >>>> Building video test_out_videos/challenge.mp4\n",
      "[MoviePy] Writing video test_out_videos/challenge.mp4\n"
     ]
    },
    {
     "name": "stderr",
     "output_type": "stream",
     "text": [
      " 98%|█████████▊| 50/51 [00:07<00:00,  4.22it/s]\n"
     ]
    },
    {
     "name": "stdout",
     "output_type": "stream",
     "text": [
      "[MoviePy] Done.\n",
      "[MoviePy] >>>> Video ready: test_out_videos/challenge.mp4 \n",
      "\n",
      "CPU times: user 1.79 s, sys: 280 ms, total: 2.07 s\n",
      "Wall time: 17 s\n",
      "[MoviePy] >>>> Building video test_out_videos/solidYellowLeft.mp4\n",
      "[MoviePy] Writing video test_out_videos/solidYellowLeft.mp4\n"
     ]
    },
    {
     "name": "stderr",
     "output_type": "stream",
     "text": [
      " 98%|█████████▊| 50/51 [00:04<00:00,  8.10it/s]\n"
     ]
    },
    {
     "name": "stdout",
     "output_type": "stream",
     "text": [
      "[MoviePy] Done.\n",
      "[MoviePy] >>>> Video ready: test_out_videos/solidYellowLeft.mp4 \n",
      "\n",
      "CPU times: user 796 ms, sys: 84 ms, total: 880 ms\n",
      "Wall time: 6.62 s\n",
      "Output Video files written to \\test_out_videos dir..!!!\n"
     ]
    }
   ],
   "source": [
    "# Gaussian filter, kernel size\n",
    "kernel_size = 17\n",
    "    \n",
    "# Threshold values for Canny Edge detector\n",
    "lw_threshold = 50\n",
    "#hg_threshold = 150\n",
    "hg_threshold = 100\n",
    "    \n",
    "# Hough transform parameters\n",
    "rho = 2\n",
    "theta = np.pi/180\n",
    "threshold = 5\n",
    "min_line_length = 15\n",
    "max_line_gap = 5\n",
    "    \n",
    "    \n",
    "if __name__ == \"__main__\":\n",
    "\n",
    "    global kernel_size, lw_threshold, hg_threshold\n",
    "    global rho, theta, threshold, min_line_length, max_line_gap\n",
    "    \n",
    "    # Input test image directory\n",
    "    ip_dir = os.listdir(\"test_images/\")\n",
    "\n",
    "    # Loop to traverse of list of input image files\n",
    "    for fpath in ip_dir:\n",
    "        \n",
    "        # Intializing numpy arrays\n",
    "        line_image = []\n",
    "        gray = blur_gray = []\n",
    "        masked_edges = initial_img = line_image = []\n",
    "        \n",
    "        img = read_ip_image(\"test_images/\" + str(fpath))\n",
    "            \n",
    "        if img is None:\n",
    "            print fpath, \"is not imge fie\"\n",
    "            continue\n",
    "        \n",
    "        # Making copy if img\n",
    "        initial_img = img\n",
    "        \n",
    "        # Reading image shape\n",
    "        imshape = img.shape\n",
    "        \n",
    "        # Selecting Polygon mask region\n",
    "        vertices = np.array([[(120, imshape[0]), (460,320), (imshape[1]-460, 315), (imshape[1]-90, imshape[0])]], dtype=np.int32)\n",
    "    \n",
    "    \n",
    "        # Converting input color image intto gray image\n",
    "        gray = GrayScale(img)\n",
    "        \n",
    "        # Gaussian smoothing gray image\n",
    "        blur_gray = Gaussian(gray, kernel_size)\n",
    "        \n",
    "        # Running Canny edge detector on blur_img\n",
    "        edges = CannyEdge(blur_gray, lw_threshold, hg_threshold)\n",
    "        \n",
    "        # Selecting region of interest\n",
    "        masked_edges = region_of_interest(edges, vertices)\n",
    "            \n",
    "        line_image = hough_lines(img, edges, masked_edges, rho, theta, threshold, min_line_length, max_line_gap)\n",
    "    \n",
    "        lines_edge = weighted_img(line_image, initial_img)\n",
    "        \n",
    "        cv.imwrite(\"test_out_images/\"+str(fpath), lines_edge)\n",
    "        \n",
    "        #plt.figure()\n",
    "        #plt.imshow(lines_edge)\n",
    "    print \"Done running test_images...!!!\"\n",
    "    print \"Check output images under test_out_images\\..!!!\"\n",
    "    \n",
    "    # video file as input\n",
    "    # Import everything needed to edit/save/watch video clips\n",
    "    from moviepy.editor import VideoFileClip\n",
    "    from IPython.display import HTML\n",
    "\n",
    "    ip_dir = os.listdir(\"test_videos/\")\n",
    "    \n",
    "    \n",
    "    for video_ip in ip_dir:\n",
    "        new_clip_output = \"test_out_videos/\"+str(video_ip)\n",
    "        clip1 = VideoFileClip(\"test_videos/\"+str(video_ip)).subclip(1,3)\n",
    "        new_clip = clip1.fl_image(process_image) #NOTE: this function expects color images!!\n",
    "        %time new_clip.write_videofile(new_clip_output, audio=False)    \n",
    "    \n",
    "    print \"Output Video files written to \\\\test_out_videos dir..!!!\"\n"
   ]
  },
  {
   "cell_type": "code",
   "execution_count": null,
   "metadata": {
    "collapsed": true
   },
   "outputs": [],
   "source": []
  }
 ],
 "metadata": {
  "kernelspec": {
   "display_name": "Python 2",
   "language": "python",
   "name": "python2"
  },
  "language_info": {
   "codemirror_mode": {
    "name": "ipython",
    "version": 2
   },
   "file_extension": ".py",
   "mimetype": "text/x-python",
   "name": "python",
   "nbconvert_exporter": "python",
   "pygments_lexer": "ipython2",
   "version": "2.7.6"
  }
 },
 "nbformat": 4,
 "nbformat_minor": 2
}
